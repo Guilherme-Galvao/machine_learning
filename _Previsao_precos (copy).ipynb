{
 "cells": [
  {
   "attachments": {},
   "cell_type": "markdown",
   "id": "34bcab5e",
   "metadata": {},
   "source": [
    "Nosso desafio é conseguir prever o preço de barcos que vamos vender baseado nas características do barco, como: ano, tamanho, tipo de barco, se é novo ou usado, qual material usado, etc."
   ]
  },
  {
   "cell_type": "code",
   "execution_count": 4,
   "id": "c8e3e8ae",
   "metadata": {},
   "outputs": [
    {
     "data": {
      "text/html": [
       "<div>\n",
       "<style scoped>\n",
       "    .dataframe tbody tr th:only-of-type {\n",
       "        vertical-align: middle;\n",
       "    }\n",
       "\n",
       "    .dataframe tbody tr th {\n",
       "        vertical-align: top;\n",
       "    }\n",
       "\n",
       "    .dataframe thead th {\n",
       "        text-align: right;\n",
       "    }\n",
       "</style>\n",
       "<table border=\"1\" class=\"dataframe\">\n",
       "  <thead>\n",
       "    <tr style=\"text-align: right;\">\n",
       "      <th></th>\n",
       "      <th>Preco</th>\n",
       "      <th>TipoBarco</th>\n",
       "      <th>TipoVenda</th>\n",
       "      <th>Ano</th>\n",
       "      <th>Comprimento</th>\n",
       "      <th>Largura</th>\n",
       "      <th>Material</th>\n",
       "    </tr>\n",
       "  </thead>\n",
       "  <tbody>\n",
       "    <tr>\n",
       "      <th>0</th>\n",
       "      <td>3490</td>\n",
       "      <td>1</td>\n",
       "      <td>1</td>\n",
       "      <td>2020</td>\n",
       "      <td>4.00</td>\n",
       "      <td>1.50</td>\n",
       "      <td>1</td>\n",
       "    </tr>\n",
       "    <tr>\n",
       "      <th>1</th>\n",
       "      <td>3399</td>\n",
       "      <td>2</td>\n",
       "      <td>1</td>\n",
       "      <td>2019</td>\n",
       "      <td>3.55</td>\n",
       "      <td>1.46</td>\n",
       "      <td>2</td>\n",
       "    </tr>\n",
       "    <tr>\n",
       "      <th>2</th>\n",
       "      <td>3600</td>\n",
       "      <td>3</td>\n",
       "      <td>2</td>\n",
       "      <td>1999</td>\n",
       "      <td>6.20</td>\n",
       "      <td>2.38</td>\n",
       "      <td>2</td>\n",
       "    </tr>\n",
       "    <tr>\n",
       "      <th>3</th>\n",
       "      <td>3500</td>\n",
       "      <td>2</td>\n",
       "      <td>2</td>\n",
       "      <td>1987</td>\n",
       "      <td>4.35</td>\n",
       "      <td>1.75</td>\n",
       "      <td>3</td>\n",
       "    </tr>\n",
       "    <tr>\n",
       "      <th>4</th>\n",
       "      <td>3500</td>\n",
       "      <td>4</td>\n",
       "      <td>2</td>\n",
       "      <td>2004</td>\n",
       "      <td>4.70</td>\n",
       "      <td>2.00</td>\n",
       "      <td>3</td>\n",
       "    </tr>\n",
       "    <tr>\n",
       "      <th>...</th>\n",
       "      <td>...</td>\n",
       "      <td>...</td>\n",
       "      <td>...</td>\n",
       "      <td>...</td>\n",
       "      <td>...</td>\n",
       "      <td>...</td>\n",
       "      <td>...</td>\n",
       "    </tr>\n",
       "    <tr>\n",
       "      <th>7644</th>\n",
       "      <td>5000</td>\n",
       "      <td>7</td>\n",
       "      <td>2</td>\n",
       "      <td>1974</td>\n",
       "      <td>7.20</td>\n",
       "      <td>2.70</td>\n",
       "      <td>3</td>\n",
       "    </tr>\n",
       "    <tr>\n",
       "      <th>7645</th>\n",
       "      <td>4999</td>\n",
       "      <td>4</td>\n",
       "      <td>2</td>\n",
       "      <td>1980</td>\n",
       "      <td>6.00</td>\n",
       "      <td>2.10</td>\n",
       "      <td>3</td>\n",
       "    </tr>\n",
       "    <tr>\n",
       "      <th>7646</th>\n",
       "      <td>4950</td>\n",
       "      <td>2</td>\n",
       "      <td>2</td>\n",
       "      <td>1984</td>\n",
       "      <td>6.00</td>\n",
       "      <td>1.62</td>\n",
       "      <td>5</td>\n",
       "    </tr>\n",
       "    <tr>\n",
       "      <th>7647</th>\n",
       "      <td>4499</td>\n",
       "      <td>4</td>\n",
       "      <td>1</td>\n",
       "      <td>2020</td>\n",
       "      <td>4.40</td>\n",
       "      <td>1.80</td>\n",
       "      <td>3</td>\n",
       "    </tr>\n",
       "    <tr>\n",
       "      <th>7648</th>\n",
       "      <td>3780</td>\n",
       "      <td>2</td>\n",
       "      <td>1</td>\n",
       "      <td>2019</td>\n",
       "      <td>3.60</td>\n",
       "      <td>1.60</td>\n",
       "      <td>3</td>\n",
       "    </tr>\n",
       "  </tbody>\n",
       "</table>\n",
       "<p>7649 rows × 7 columns</p>\n",
       "</div>"
      ],
      "text/plain": [
       "      Preco  TipoBarco  TipoVenda   Ano  Comprimento  Largura  Material\n",
       "0      3490          1          1  2020         4.00     1.50         1\n",
       "1      3399          2          1  2019         3.55     1.46         2\n",
       "2      3600          3          2  1999         6.20     2.38         2\n",
       "3      3500          2          2  1987         4.35     1.75         3\n",
       "4      3500          4          2  2004         4.70     2.00         3\n",
       "...     ...        ...        ...   ...          ...      ...       ...\n",
       "7644   5000          7          2  1974         7.20     2.70         3\n",
       "7645   4999          4          2  1980         6.00     2.10         3\n",
       "7646   4950          2          2  1984         6.00     1.62         5\n",
       "7647   4499          4          1  2020         4.40     1.80         3\n",
       "7648   3780          2          1  2019         3.60     1.60         3\n",
       "\n",
       "[7649 rows x 7 columns]"
      ]
     },
     "metadata": {},
     "output_type": "display_data"
    },
    {
     "name": "stdout",
     "output_type": "stream",
     "text": [
      "<class 'pandas.core.frame.DataFrame'>\n",
      "RangeIndex: 7649 entries, 0 to 7648\n",
      "Data columns (total 7 columns):\n",
      " #   Column       Non-Null Count  Dtype  \n",
      "---  ------       --------------  -----  \n",
      " 0   Preco        7649 non-null   int64  \n",
      " 1   TipoBarco    7649 non-null   int64  \n",
      " 2   TipoVenda    7649 non-null   int64  \n",
      " 3   Ano          7649 non-null   int64  \n",
      " 4   Comprimento  7649 non-null   float64\n",
      " 5   Largura      7649 non-null   float64\n",
      " 6   Material     7649 non-null   int64  \n",
      "dtypes: float64(2), int64(5)\n",
      "memory usage: 418.4 KB\n",
      "None\n"
     ]
    }
   ],
   "source": [
    "#Passo 1: Entendimento do Desafio\n",
    "#Passo 2: Entendimento da Área/Empresa\n",
    "#Passo 3: Extração/Obtenção de Dados\n",
    "import pandas as pd\n",
    "import matplotlib.pyplot as plt\n",
    "import seaborn as sns\n",
    "\n",
    "tabela = pd.read_csv(\"barcos_ref.csv\")\n",
    "display(tabela)\n",
    "\n",
    "#Passo 4: Ajuste de Dados (Tratamento/Limpeza)\n",
    "print(tabela.info())\n"
   ]
  },
  {
   "cell_type": "code",
   "execution_count": 34,
   "id": "7a4fe170",
   "metadata": {},
   "outputs": [
    {
     "data": {
      "text/html": [
       "<div>\n",
       "<style scoped>\n",
       "    .dataframe tbody tr th:only-of-type {\n",
       "        vertical-align: middle;\n",
       "    }\n",
       "\n",
       "    .dataframe tbody tr th {\n",
       "        vertical-align: top;\n",
       "    }\n",
       "\n",
       "    .dataframe thead th {\n",
       "        text-align: right;\n",
       "    }\n",
       "</style>\n",
       "<table border=\"1\" class=\"dataframe\">\n",
       "  <thead>\n",
       "    <tr style=\"text-align: right;\">\n",
       "      <th></th>\n",
       "      <th>Preco</th>\n",
       "    </tr>\n",
       "  </thead>\n",
       "  <tbody>\n",
       "    <tr>\n",
       "      <th>Preco</th>\n",
       "      <td>1.000000</td>\n",
       "    </tr>\n",
       "    <tr>\n",
       "      <th>TipoBarco</th>\n",
       "      <td>0.293137</td>\n",
       "    </tr>\n",
       "    <tr>\n",
       "      <th>TipoVenda</th>\n",
       "      <td>0.041266</td>\n",
       "    </tr>\n",
       "    <tr>\n",
       "      <th>Ano</th>\n",
       "      <td>0.113385</td>\n",
       "    </tr>\n",
       "    <tr>\n",
       "      <th>Comprimento</th>\n",
       "      <td>0.578353</td>\n",
       "    </tr>\n",
       "    <tr>\n",
       "      <th>Largura</th>\n",
       "      <td>0.557621</td>\n",
       "    </tr>\n",
       "    <tr>\n",
       "      <th>Material</th>\n",
       "      <td>-0.036476</td>\n",
       "    </tr>\n",
       "  </tbody>\n",
       "</table>\n",
       "</div>"
      ],
      "text/plain": [
       "                Preco\n",
       "Preco        1.000000\n",
       "TipoBarco    0.293137\n",
       "TipoVenda    0.041266\n",
       "Ano          0.113385\n",
       "Comprimento  0.578353\n",
       "Largura      0.557621\n",
       "Material    -0.036476"
      ]
     },
     "metadata": {},
     "output_type": "display_data"
    }
   ],
   "source": [
    "#Passo 5: Análise Exploratória\n",
    "\n",
    "display(tabela.corr()[[\"Preco\"]])\n",
    "\n"
   ]
  },
  {
   "cell_type": "code",
   "execution_count": 35,
   "id": "08ecbc50",
   "metadata": {},
   "outputs": [
    {
     "data": {
      "image/png": "[encoded data removed]",
      "text/plain": [
       "<Figure size 640x480 with 2 Axes>"
      ]
     },
     "metadata": {},
     "output_type": "display_data"
    }
   ],
   "source": [
    "#cria o grafico\n",
    "sns.heatmap(tabela.corr()[[\"Preco\"]], cmap=\"Oranges\", annot=True)\n",
    "#exibe o codigo\n",
    "plt.show()\n"
   ]
  },
  {
   "cell_type": "code",
   "execution_count": 45,
   "id": "378f6f10",
   "metadata": {},
   "outputs": [],
   "source": [
    "#Passo 6: Modelagem + Algoritmos (Aqui que entra a Inteligência Artificial, se necessário)\n",
    "    #preparação\n",
    "\n",
    "    #separar a base em dados d X e Y\n",
    "y = tabela[\"Preco\"]\n",
    "\n",
    "x = tabela.drop(\"Preco\", axis= 1)\n"
   ]
  },
  {
   "cell_type": "code",
   "execution_count": 46,
   "id": "77caefe2",
   "metadata": {},
   "outputs": [],
   "source": [
    "#separando os dados de treino e de teste\n",
    "\n",
    "from sklearn.model_selection import train_test_split\n",
    "\n",
    "x_treino, x_teste, y_treino, y_teste = train_test_split(x, y, test_size=0.3, random_state=1)\n"
   ]
  },
  {
   "cell_type": "code",
   "execution_count": 80,
   "id": "7784b604",
   "metadata": {
    "scrolled": false
   },
   "outputs": [
    {
     "data": {
      "text/html": [
       "<style>#sk-container-id-10 {color: black;background-color: white;}#sk-container-id-10 pre{padding: 0;}#sk-container-id-10 div.sk-toggleable {background-color: white;}#sk-container-id-10 label.sk-toggleable__label {cursor: pointer;display: block;width: 100%;margin-bottom: 0;padding: 0.3em;box-sizing: border-box;text-align: center;}#sk-container-id-10 label.sk-toggleable__label-arrow:before {content: \"▸\";float: left;margin-right: 0.25em;color: #696969;}#sk-container-id-10 label.sk-toggleable__label-arrow:hover:before {color: black;}#sk-container-id-10 div.sk-estimator:hover label.sk-toggleable__label-arrow:before {color: black;}#sk-container-id-10 div.sk-toggleable__content {max-height: 0;max-width: 0;overflow: hidden;text-align: left;background-color: #f0f8ff;}#sk-container-id-10 div.sk-toggleable__content pre {margin: 0.2em;color: black;border-radius: 0.25em;background-color: #f0f8ff;}#sk-container-id-10 input.sk-toggleable__control:checked~div.sk-toggleable__content {max-height: 200px;max-width: 100%;overflow: auto;}#sk-container-id-10 input.sk-toggleable__control:checked~label.sk-toggleable__label-arrow:before {content: \"▾\";}#sk-container-id-10 div.sk-estimator input.sk-toggleable__control:checked~label.sk-toggleable__label {background-color: #d4ebff;}#sk-container-id-10 div.sk-label input.sk-toggleable__control:checked~label.sk-toggleable__label {background-color: #d4ebff;}#sk-container-id-10 input.sk-hidden--visually {border: 0;clip: rect(1px 1px 1px 1px);clip: rect(1px, 1px, 1px, 1px);height: 1px;margin: -1px;overflow: hidden;padding: 0;position: absolute;width: 1px;}#sk-container-id-10 div.sk-estimator {font-family: monospace;background-color: #f0f8ff;border: 1px dotted black;border-radius: 0.25em;box-sizing: border-box;margin-bottom: 0.5em;}#sk-container-id-10 div.sk-estimator:hover {background-color: #d4ebff;}#sk-container-id-10 div.sk-parallel-item::after {content: \"\";width: 100%;border-bottom: 1px solid gray;flex-grow: 1;}#sk-container-id-10 div.sk-label:hover label.sk-toggleable__label {background-color: #d4ebff;}#sk-container-id-10 div.sk-serial::before {content: \"\";position: absolute;border-left: 1px solid gray;box-sizing: border-box;top: 0;bottom: 0;left: 50%;z-index: 0;}#sk-container-id-10 div.sk-serial {display: flex;flex-direction: column;align-items: center;background-color: white;padding-right: 0.2em;padding-left: 0.2em;position: relative;}#sk-container-id-10 div.sk-item {position: relative;z-index: 1;}#sk-container-id-10 div.sk-parallel {display: flex;align-items: stretch;justify-content: center;background-color: white;position: relative;}#sk-container-id-10 div.sk-item::before, #sk-container-id-10 div.sk-parallel-item::before {content: \"\";position: absolute;border-left: 1px solid gray;box-sizing: border-box;top: 0;bottom: 0;left: 50%;z-index: -1;}#sk-container-id-10 div.sk-parallel-item {display: flex;flex-direction: column;z-index: 1;position: relative;background-color: white;}#sk-container-id-10 div.sk-parallel-item:first-child::after {align-self: flex-end;width: 50%;}#sk-container-id-10 div.sk-parallel-item:last-child::after {align-self: flex-start;width: 50%;}#sk-container-id-10 div.sk-parallel-item:only-child::after {width: 0;}#sk-container-id-10 div.sk-dashed-wrapped {border: 1px dashed gray;margin: 0 0.4em 0.5em 0.4em;box-sizing: border-box;padding-bottom: 0.4em;background-color: white;}#sk-container-id-10 div.sk-label label {font-family: monospace;font-weight: bold;display: inline-block;line-height: 1.2em;}#sk-container-id-10 div.sk-label-container {text-align: center;}#sk-container-id-10 div.sk-container {/* jupyter's `normalize.less` sets `[hidden] { display: none; }` but bootstrap.min.css set `[hidden] { display: none !important; }` so we also need the `!important` here to be able to override the default hidden behavior on the sphinx rendered scikit-learn.org. See: https://github.com/scikit-learn/scikit-learn/issues/21755 */display: inline-block !important;position: relative;}#sk-container-id-10 div.sk-text-repr-fallback {display: none;}</style><div id=\"sk-container-id-10\" class=\"sk-top-container\"><div class=\"sk-text-repr-fallback\"><pre>RandomForestRegressor()</pre><b>In a Jupyter environment, please rerun this cell to show the HTML representation or trust the notebook. <br />On GitHub, the HTML representation is unable to render, please try loading this page with nbviewer.org.</b></div><div class=\"sk-container\" hidden><div class=\"sk-item\"><div class=\"sk-estimator sk-toggleable\"><input class=\"sk-toggleable__control sk-hidden--visually\" id=\"sk-estimator-id-10\" type=\"checkbox\" checked><label for=\"sk-estimator-id-10\" class=\"sk-toggleable__label sk-toggleable__label-arrow\">RandomForestRegressor</label><div class=\"sk-toggleable__content\"><pre>RandomForestRegressor()</pre></div></div></div></div></div>"
      ],
      "text/plain": [
       "RandomForestRegressor()"
      ]
     },
     "execution_count": 80,
     "metadata": {},
     "output_type": "execute_result"
    }
   ],
   "source": [
    "#Criação e treino da IA\n",
    "    #Importar\n",
    "from sklearn.linear_model import LinearRegression\n",
    "from sklearn.ensemble import RandomForestRegressor\n",
    "    #criar\n",
    "modelo_regressaolinear = LinearRegression()\n",
    "modelo_arvoredecisao = RandomForestRegressor()\n",
    "    #treinar\n",
    "modelo_regressaolinear.fit(x_treino, y_treino)\n",
    "modelo_arvoredecisao.fit(x_treino, y_treino)"
   ]
  },
  {
   "cell_type": "code",
   "execution_count": 81,
   "id": "45ccd950",
   "metadata": {},
   "outputs": [],
   "source": [
    "previsao_regressaolinear = modelo_regressaolinear.predict(x_teste)\n",
    "previsao_arvoredecisao = modelo_arvoredecisao.predict(x_teste)\n",
    "\n"
   ]
  },
  {
   "cell_type": "code",
   "execution_count": 76,
   "id": "706743ca",
   "metadata": {},
   "outputs": [
    {
     "name": "stdout",
     "output_type": "stream",
     "text": [
      "0.44903247607358143\n",
      "0.8529029189880067\n"
     ]
    },
    {
     "data": {
      "text/plain": [
       "<Axes: >"
      ]
     },
     "execution_count": 76,
     "metadata": {},
     "output_type": "execute_result"
    },
    {
     "data": {
      "image/png": "[encoded data removed]",
      "text/plain": [
       "<Figure size 640x480 with 1 Axes>"
      ]
     },
     "metadata": {},
     "output_type": "display_data"
    }
   ],
   "source": [
    "#Passo 7: Vizualização e Interpretação de Resultados\n",
    "\n",
    "from sklearn.metrics import r2_score\n",
    "\n",
    "print(r2_score(y_teste, previsao_regressaolinear))\n",
    "print(r2_score(y_teste, previsao_arvoredecisao))\n",
    "\n",
    "\n",
    "tabela_auxiliar = pd.DataFrame()\n",
    "tabela_auxiliar['y_teste'] = y_teste\n",
    "tabela_auxiliar[\"Previsoes Arvore Decisão\"]  = previsao_arvoredecisao\n",
    "tabela_auxiliar[\"Previsoes Regressao Linear\"] = previsao_regressaolinear\n",
    "\n",
    "sns.lineplot(data=tabela_auxiliar)"
   ]
  },
  {
   "cell_type": "code",
   "execution_count": 84,
   "id": "10d8b33a",
   "metadata": {},
   "outputs": [
    {
     "data": {
      "text/html": [
       "<div>\n",
       "<style scoped>\n",
       "    .dataframe tbody tr th:only-of-type {\n",
       "        vertical-align: middle;\n",
       "    }\n",
       "\n",
       "    .dataframe tbody tr th {\n",
       "        vertical-align: top;\n",
       "    }\n",
       "\n",
       "    .dataframe thead th {\n",
       "        text-align: right;\n",
       "    }\n",
       "</style>\n",
       "<table border=\"1\" class=\"dataframe\">\n",
       "  <thead>\n",
       "    <tr style=\"text-align: right;\">\n",
       "      <th></th>\n",
       "      <th>TipoBarco</th>\n",
       "      <th>TipoVenda</th>\n",
       "      <th>Ano</th>\n",
       "      <th>Comprimento</th>\n",
       "      <th>Largura</th>\n",
       "      <th>Material</th>\n",
       "    </tr>\n",
       "  </thead>\n",
       "  <tbody>\n",
       "    <tr>\n",
       "      <th>0</th>\n",
       "      <td>2</td>\n",
       "      <td>3</td>\n",
       "      <td>2023</td>\n",
       "      <td>3.0</td>\n",
       "      <td>1.5</td>\n",
       "      <td>1</td>\n",
       "    </tr>\n",
       "    <tr>\n",
       "      <th>1</th>\n",
       "      <td>2</td>\n",
       "      <td>1</td>\n",
       "      <td>2023</td>\n",
       "      <td>3.8</td>\n",
       "      <td>1.9</td>\n",
       "      <td>2</td>\n",
       "    </tr>\n",
       "    <tr>\n",
       "      <th>2</th>\n",
       "      <td>3</td>\n",
       "      <td>2</td>\n",
       "      <td>1999</td>\n",
       "      <td>6.2</td>\n",
       "      <td>3.0</td>\n",
       "      <td>2</td>\n",
       "    </tr>\n",
       "  </tbody>\n",
       "</table>\n",
       "</div>"
      ],
      "text/plain": [
       "   TipoBarco  TipoVenda   Ano  Comprimento  Largura  Material\n",
       "0          2          3  2023          3.0      1.5         1\n",
       "1          2          1  2023          3.8      1.9         2\n",
       "2          3          2  1999          6.2      3.0         2"
      ]
     },
     "metadata": {},
     "output_type": "display_data"
    },
    {
     "name": "stdout",
     "output_type": "stream",
     "text": [
      "[ 6386.64140476  8908.18       21182.55      ]\n"
     ]
    }
   ],
   "source": [
    "tabela_nova = pd.read_csv(\"novos_barcos.csv\")\n",
    "\n",
    "display(tabela_nova)\n",
    "\n",
    "previsao = modelo_arvoredecisao.predict(tabela_nova)\n",
    "print(previsao)\n",
    "\n"
   ]
  },
  {
   "cell_type": "code",
   "execution_count": null,
   "id": "1f0b7fd6",
   "metadata": {},
   "outputs": [],
   "source": []
  },
  {
   "cell_type": "code",
   "execution_count": null,
   "id": "75858029",
   "metadata": {},
   "outputs": [],
   "source": []
  }
 ],
 "metadata": {
  "kernelspec": {
   "display_name": "Python 3 (ipykernel)",
   "language": "python",
   "name": "python3"
  },
  "language_info": {
   "codemirror_mode": {
    "name": "ipython",
    "version": 3
   },
   "file_extension": ".py",
   "mimetype": "text/x-python",
   "name": "python",
   "nbconvert_exporter": "python",
   "pygments_lexer": "ipython3",
   "version": "3.10.6"
  }
 },
 "nbformat": 4,
 "nbformat_minor": 5
}
